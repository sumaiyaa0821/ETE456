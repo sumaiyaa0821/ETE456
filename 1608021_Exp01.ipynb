{
  "nbformat": 4,
  "nbformat_minor": 0,
  "metadata": {
    "colab": {
      "name": "1608021_Exp01",
      "provenance": [],
      "collapsed_sections": [],
      "authorship_tag": "ABX9TyPR9WcsIUr8K3FwyZwGMFaT",
      "include_colab_link": true
    },
    "kernelspec": {
      "name": "python3",
      "display_name": "Python 3"
    },
    "language_info": {
      "name": "python"
    }
  },
  "cells": [
    {
      "cell_type": "markdown",
      "metadata": {
        "id": "view-in-github",
        "colab_type": "text"
      },
      "source": [
        "<a href=\"https://colab.research.google.com/github/sumaiyaa0821/ETE456/blob/main/1608021_Exp01.ipynb\" target=\"_parent\"><img src=\"https://colab.research.google.com/assets/colab-badge.svg\" alt=\"Open In Colab\"/></a>"
      ]
    },
    {
      "cell_type": "markdown",
      "source": [
        "**Experiment Name: Exploring Different Types of Regression**\n",
        "\n",
        "**Course No:** ETE 456\n",
        "\n",
        "**Name:** Sumaiya Binta Rowshon\n",
        "\n",
        "**ID:** 1608021\n",
        "\n",
        "**Objective**\n",
        "\n",
        "1.To apply different regression algorithms in real world dataset."
      ],
      "metadata": {
        "id": "WGwFQq6rKDKT"
      }
    },
    {
      "cell_type": "markdown",
      "source": [
        "**Task**\n",
        "\n",
        "*Prediction of Insurance Costs*"
      ],
      "metadata": {
        "id": "JiTYsC08Kbkz"
      }
    },
    {
      "cell_type": "code",
      "metadata": {
        "id": "s614yck49Bx5"
      },
      "source": [
        "import numpy as np          # used for mathmatical functions\n",
        "import matplotlib.pyplot as plt       #used for ploting\n",
        "import pandas as pd           # used for importing & managing the database"
      ],
      "execution_count": null,
      "outputs": []
    },
    {
      "cell_type": "code",
      "metadata": {
        "colab": {
          "base_uri": "https://localhost:8080/"
        },
        "id": "fBxSGXwy9nNH",
        "outputId": "831c562d-8a6b-48cb-97a2-09527d01e7ed"
      },
      "source": [
        "!wget -O insurance.csv https://www.dropbox.com/s/mwgqgjbmfw0xa5p/insurance.csv?dl=0"
      ],
      "execution_count": null,
      "outputs": [
        {
          "output_type": "stream",
          "name": "stdout",
          "text": [
            "--2021-11-30 04:55:46--  https://www.dropbox.com/s/mwgqgjbmfw0xa5p/insurance.csv?dl=0\n",
            "Resolving www.dropbox.com (www.dropbox.com)... 162.125.5.18, 2620:100:601d:18::a27d:512\n",
            "Connecting to www.dropbox.com (www.dropbox.com)|162.125.5.18|:443... connected.\n",
            "HTTP request sent, awaiting response... 301 Moved Permanently\n",
            "Location: /s/raw/mwgqgjbmfw0xa5p/insurance.csv [following]\n",
            "--2021-11-30 04:55:46--  https://www.dropbox.com/s/raw/mwgqgjbmfw0xa5p/insurance.csv\n",
            "Reusing existing connection to www.dropbox.com:443.\n",
            "HTTP request sent, awaiting response... 302 Found\n",
            "Location: https://ucbb398d72d6236c1c69f76d9cd0.dl.dropboxusercontent.com/cd/0/inline/Ba5T6NGITNq797JX7gJhp48mWucVDMHNMeRrxx-yZe05nxM8lp1XfY4S_JkLpgak86c5CiJ3dl-xIOAM2ZQJ7d3pwgxgenOtsijyMUPiGwSdyuv_Y2sH5RCFSGrdxsnfBesgJCvzFpoOuBP8raaTgeEl/file# [following]\n",
            "--2021-11-30 04:55:46--  https://ucbb398d72d6236c1c69f76d9cd0.dl.dropboxusercontent.com/cd/0/inline/Ba5T6NGITNq797JX7gJhp48mWucVDMHNMeRrxx-yZe05nxM8lp1XfY4S_JkLpgak86c5CiJ3dl-xIOAM2ZQJ7d3pwgxgenOtsijyMUPiGwSdyuv_Y2sH5RCFSGrdxsnfBesgJCvzFpoOuBP8raaTgeEl/file\n",
            "Resolving ucbb398d72d6236c1c69f76d9cd0.dl.dropboxusercontent.com (ucbb398d72d6236c1c69f76d9cd0.dl.dropboxusercontent.com)... 162.125.5.15, 2620:100:601d:15::a27d:50f\n",
            "Connecting to ucbb398d72d6236c1c69f76d9cd0.dl.dropboxusercontent.com (ucbb398d72d6236c1c69f76d9cd0.dl.dropboxusercontent.com)|162.125.5.15|:443... connected.\n",
            "HTTP request sent, awaiting response... 200 OK\n",
            "Length: 55628 (54K) [text/plain]\n",
            "Saving to: ‘insurance.csv’\n",
            "\n",
            "insurance.csv       100%[===================>]  54.32K  --.-KB/s    in 0.03s   \n",
            "\n",
            "2021-11-30 04:55:46 (1.74 MB/s) - ‘insurance.csv’ saved [55628/55628]\n",
            "\n"
          ]
        }
      ]
    },
    {
      "cell_type": "code",
      "metadata": {
        "colab": {
          "base_uri": "https://localhost:8080/",
          "height": 424
        },
        "id": "Ij1CFyl2-I8N",
        "outputId": "8de77fbe-c2ca-4df1-b80c-401f2b8ef9ee"
      },
      "source": [
        "dataset = pd.read_csv('insurance.csv')\n",
        "dataset"
      ],
      "execution_count": null,
      "outputs": [
        {
          "output_type": "execute_result",
          "data": {
            "text/html": [
              "<div>\n",
              "<style scoped>\n",
              "    .dataframe tbody tr th:only-of-type {\n",
              "        vertical-align: middle;\n",
              "    }\n",
              "\n",
              "    .dataframe tbody tr th {\n",
              "        vertical-align: top;\n",
              "    }\n",
              "\n",
              "    .dataframe thead th {\n",
              "        text-align: right;\n",
              "    }\n",
              "</style>\n",
              "<table border=\"1\" class=\"dataframe\">\n",
              "  <thead>\n",
              "    <tr style=\"text-align: right;\">\n",
              "      <th></th>\n",
              "      <th>age</th>\n",
              "      <th>sex</th>\n",
              "      <th>bmi</th>\n",
              "      <th>children</th>\n",
              "      <th>smoker</th>\n",
              "      <th>region</th>\n",
              "      <th>charges</th>\n",
              "    </tr>\n",
              "  </thead>\n",
              "  <tbody>\n",
              "    <tr>\n",
              "      <th>0</th>\n",
              "      <td>19</td>\n",
              "      <td>female</td>\n",
              "      <td>27.900</td>\n",
              "      <td>0</td>\n",
              "      <td>yes</td>\n",
              "      <td>southwest</td>\n",
              "      <td>16884.92400</td>\n",
              "    </tr>\n",
              "    <tr>\n",
              "      <th>1</th>\n",
              "      <td>18</td>\n",
              "      <td>male</td>\n",
              "      <td>33.770</td>\n",
              "      <td>1</td>\n",
              "      <td>no</td>\n",
              "      <td>southeast</td>\n",
              "      <td>1725.55230</td>\n",
              "    </tr>\n",
              "    <tr>\n",
              "      <th>2</th>\n",
              "      <td>28</td>\n",
              "      <td>male</td>\n",
              "      <td>33.000</td>\n",
              "      <td>3</td>\n",
              "      <td>no</td>\n",
              "      <td>southeast</td>\n",
              "      <td>4449.46200</td>\n",
              "    </tr>\n",
              "    <tr>\n",
              "      <th>3</th>\n",
              "      <td>33</td>\n",
              "      <td>male</td>\n",
              "      <td>22.705</td>\n",
              "      <td>0</td>\n",
              "      <td>no</td>\n",
              "      <td>northwest</td>\n",
              "      <td>21984.47061</td>\n",
              "    </tr>\n",
              "    <tr>\n",
              "      <th>4</th>\n",
              "      <td>32</td>\n",
              "      <td>male</td>\n",
              "      <td>28.880</td>\n",
              "      <td>0</td>\n",
              "      <td>no</td>\n",
              "      <td>northwest</td>\n",
              "      <td>3866.85520</td>\n",
              "    </tr>\n",
              "    <tr>\n",
              "      <th>...</th>\n",
              "      <td>...</td>\n",
              "      <td>...</td>\n",
              "      <td>...</td>\n",
              "      <td>...</td>\n",
              "      <td>...</td>\n",
              "      <td>...</td>\n",
              "      <td>...</td>\n",
              "    </tr>\n",
              "    <tr>\n",
              "      <th>1333</th>\n",
              "      <td>50</td>\n",
              "      <td>male</td>\n",
              "      <td>30.970</td>\n",
              "      <td>3</td>\n",
              "      <td>no</td>\n",
              "      <td>northwest</td>\n",
              "      <td>10600.54830</td>\n",
              "    </tr>\n",
              "    <tr>\n",
              "      <th>1334</th>\n",
              "      <td>18</td>\n",
              "      <td>female</td>\n",
              "      <td>31.920</td>\n",
              "      <td>0</td>\n",
              "      <td>no</td>\n",
              "      <td>northeast</td>\n",
              "      <td>2205.98080</td>\n",
              "    </tr>\n",
              "    <tr>\n",
              "      <th>1335</th>\n",
              "      <td>18</td>\n",
              "      <td>female</td>\n",
              "      <td>36.850</td>\n",
              "      <td>0</td>\n",
              "      <td>no</td>\n",
              "      <td>southeast</td>\n",
              "      <td>1629.83350</td>\n",
              "    </tr>\n",
              "    <tr>\n",
              "      <th>1336</th>\n",
              "      <td>21</td>\n",
              "      <td>female</td>\n",
              "      <td>25.800</td>\n",
              "      <td>0</td>\n",
              "      <td>no</td>\n",
              "      <td>southwest</td>\n",
              "      <td>2007.94500</td>\n",
              "    </tr>\n",
              "    <tr>\n",
              "      <th>1337</th>\n",
              "      <td>61</td>\n",
              "      <td>female</td>\n",
              "      <td>29.070</td>\n",
              "      <td>0</td>\n",
              "      <td>yes</td>\n",
              "      <td>northwest</td>\n",
              "      <td>29141.36030</td>\n",
              "    </tr>\n",
              "  </tbody>\n",
              "</table>\n",
              "<p>1338 rows × 7 columns</p>\n",
              "</div>"
            ],
            "text/plain": [
              "      age     sex     bmi  children smoker     region      charges\n",
              "0      19  female  27.900         0    yes  southwest  16884.92400\n",
              "1      18    male  33.770         1     no  southeast   1725.55230\n",
              "2      28    male  33.000         3     no  southeast   4449.46200\n",
              "3      33    male  22.705         0     no  northwest  21984.47061\n",
              "4      32    male  28.880         0     no  northwest   3866.85520\n",
              "...   ...     ...     ...       ...    ...        ...          ...\n",
              "1333   50    male  30.970         3     no  northwest  10600.54830\n",
              "1334   18  female  31.920         0     no  northeast   2205.98080\n",
              "1335   18  female  36.850         0     no  southeast   1629.83350\n",
              "1336   21  female  25.800         0     no  southwest   2007.94500\n",
              "1337   61  female  29.070         0    yes  northwest  29141.36030\n",
              "\n",
              "[1338 rows x 7 columns]"
            ]
          },
          "metadata": {},
          "execution_count": 5
        }
      ]
    },
    {
      "cell_type": "code",
      "metadata": {
        "id": "tezxoUxp-d3l"
      },
      "source": [
        "feature = dataset[['age','sex','bmi',\n",
        "                   'children','smoker','region']]  # for independent\n",
        "target = dataset[['charges']]   # for dependent"
      ],
      "execution_count": null,
      "outputs": []
    },
    {
      "cell_type": "code",
      "metadata": {
        "colab": {
          "base_uri": "https://localhost:8080/",
          "height": 424
        },
        "id": "vnIfy0kZ_Vxo",
        "outputId": "9962a180-660c-4936-ff50-b87fa83811fb"
      },
      "source": [
        "feature"
      ],
      "execution_count": null,
      "outputs": [
        {
          "output_type": "execute_result",
          "data": {
            "text/html": [
              "<div>\n",
              "<style scoped>\n",
              "    .dataframe tbody tr th:only-of-type {\n",
              "        vertical-align: middle;\n",
              "    }\n",
              "\n",
              "    .dataframe tbody tr th {\n",
              "        vertical-align: top;\n",
              "    }\n",
              "\n",
              "    .dataframe thead th {\n",
              "        text-align: right;\n",
              "    }\n",
              "</style>\n",
              "<table border=\"1\" class=\"dataframe\">\n",
              "  <thead>\n",
              "    <tr style=\"text-align: right;\">\n",
              "      <th></th>\n",
              "      <th>age</th>\n",
              "      <th>sex</th>\n",
              "      <th>bmi</th>\n",
              "      <th>children</th>\n",
              "      <th>smoker</th>\n",
              "      <th>region</th>\n",
              "    </tr>\n",
              "  </thead>\n",
              "  <tbody>\n",
              "    <tr>\n",
              "      <th>0</th>\n",
              "      <td>19</td>\n",
              "      <td>female</td>\n",
              "      <td>27.900</td>\n",
              "      <td>0</td>\n",
              "      <td>yes</td>\n",
              "      <td>southwest</td>\n",
              "    </tr>\n",
              "    <tr>\n",
              "      <th>1</th>\n",
              "      <td>18</td>\n",
              "      <td>male</td>\n",
              "      <td>33.770</td>\n",
              "      <td>1</td>\n",
              "      <td>no</td>\n",
              "      <td>southeast</td>\n",
              "    </tr>\n",
              "    <tr>\n",
              "      <th>2</th>\n",
              "      <td>28</td>\n",
              "      <td>male</td>\n",
              "      <td>33.000</td>\n",
              "      <td>3</td>\n",
              "      <td>no</td>\n",
              "      <td>southeast</td>\n",
              "    </tr>\n",
              "    <tr>\n",
              "      <th>3</th>\n",
              "      <td>33</td>\n",
              "      <td>male</td>\n",
              "      <td>22.705</td>\n",
              "      <td>0</td>\n",
              "      <td>no</td>\n",
              "      <td>northwest</td>\n",
              "    </tr>\n",
              "    <tr>\n",
              "      <th>4</th>\n",
              "      <td>32</td>\n",
              "      <td>male</td>\n",
              "      <td>28.880</td>\n",
              "      <td>0</td>\n",
              "      <td>no</td>\n",
              "      <td>northwest</td>\n",
              "    </tr>\n",
              "    <tr>\n",
              "      <th>...</th>\n",
              "      <td>...</td>\n",
              "      <td>...</td>\n",
              "      <td>...</td>\n",
              "      <td>...</td>\n",
              "      <td>...</td>\n",
              "      <td>...</td>\n",
              "    </tr>\n",
              "    <tr>\n",
              "      <th>1333</th>\n",
              "      <td>50</td>\n",
              "      <td>male</td>\n",
              "      <td>30.970</td>\n",
              "      <td>3</td>\n",
              "      <td>no</td>\n",
              "      <td>northwest</td>\n",
              "    </tr>\n",
              "    <tr>\n",
              "      <th>1334</th>\n",
              "      <td>18</td>\n",
              "      <td>female</td>\n",
              "      <td>31.920</td>\n",
              "      <td>0</td>\n",
              "      <td>no</td>\n",
              "      <td>northeast</td>\n",
              "    </tr>\n",
              "    <tr>\n",
              "      <th>1335</th>\n",
              "      <td>18</td>\n",
              "      <td>female</td>\n",
              "      <td>36.850</td>\n",
              "      <td>0</td>\n",
              "      <td>no</td>\n",
              "      <td>southeast</td>\n",
              "    </tr>\n",
              "    <tr>\n",
              "      <th>1336</th>\n",
              "      <td>21</td>\n",
              "      <td>female</td>\n",
              "      <td>25.800</td>\n",
              "      <td>0</td>\n",
              "      <td>no</td>\n",
              "      <td>southwest</td>\n",
              "    </tr>\n",
              "    <tr>\n",
              "      <th>1337</th>\n",
              "      <td>61</td>\n",
              "      <td>female</td>\n",
              "      <td>29.070</td>\n",
              "      <td>0</td>\n",
              "      <td>yes</td>\n",
              "      <td>northwest</td>\n",
              "    </tr>\n",
              "  </tbody>\n",
              "</table>\n",
              "<p>1338 rows × 6 columns</p>\n",
              "</div>"
            ],
            "text/plain": [
              "      age     sex     bmi  children smoker     region\n",
              "0      19  female  27.900         0    yes  southwest\n",
              "1      18    male  33.770         1     no  southeast\n",
              "2      28    male  33.000         3     no  southeast\n",
              "3      33    male  22.705         0     no  northwest\n",
              "4      32    male  28.880         0     no  northwest\n",
              "...   ...     ...     ...       ...    ...        ...\n",
              "1333   50    male  30.970         3     no  northwest\n",
              "1334   18  female  31.920         0     no  northeast\n",
              "1335   18  female  36.850         0     no  southeast\n",
              "1336   21  female  25.800         0     no  southwest\n",
              "1337   61  female  29.070         0    yes  northwest\n",
              "\n",
              "[1338 rows x 6 columns]"
            ]
          },
          "metadata": {},
          "execution_count": 7
        }
      ]
    },
    {
      "cell_type": "code",
      "metadata": {
        "colab": {
          "base_uri": "https://localhost:8080/",
          "height": 424
        },
        "id": "1gFSGN8w_bln",
        "outputId": "7dd72958-a8e4-4f55-bf16-9d2eb43315bd"
      },
      "source": [
        "target"
      ],
      "execution_count": null,
      "outputs": [
        {
          "output_type": "execute_result",
          "data": {
            "text/html": [
              "<div>\n",
              "<style scoped>\n",
              "    .dataframe tbody tr th:only-of-type {\n",
              "        vertical-align: middle;\n",
              "    }\n",
              "\n",
              "    .dataframe tbody tr th {\n",
              "        vertical-align: top;\n",
              "    }\n",
              "\n",
              "    .dataframe thead th {\n",
              "        text-align: right;\n",
              "    }\n",
              "</style>\n",
              "<table border=\"1\" class=\"dataframe\">\n",
              "  <thead>\n",
              "    <tr style=\"text-align: right;\">\n",
              "      <th></th>\n",
              "      <th>charges</th>\n",
              "    </tr>\n",
              "  </thead>\n",
              "  <tbody>\n",
              "    <tr>\n",
              "      <th>0</th>\n",
              "      <td>16884.92400</td>\n",
              "    </tr>\n",
              "    <tr>\n",
              "      <th>1</th>\n",
              "      <td>1725.55230</td>\n",
              "    </tr>\n",
              "    <tr>\n",
              "      <th>2</th>\n",
              "      <td>4449.46200</td>\n",
              "    </tr>\n",
              "    <tr>\n",
              "      <th>3</th>\n",
              "      <td>21984.47061</td>\n",
              "    </tr>\n",
              "    <tr>\n",
              "      <th>4</th>\n",
              "      <td>3866.85520</td>\n",
              "    </tr>\n",
              "    <tr>\n",
              "      <th>...</th>\n",
              "      <td>...</td>\n",
              "    </tr>\n",
              "    <tr>\n",
              "      <th>1333</th>\n",
              "      <td>10600.54830</td>\n",
              "    </tr>\n",
              "    <tr>\n",
              "      <th>1334</th>\n",
              "      <td>2205.98080</td>\n",
              "    </tr>\n",
              "    <tr>\n",
              "      <th>1335</th>\n",
              "      <td>1629.83350</td>\n",
              "    </tr>\n",
              "    <tr>\n",
              "      <th>1336</th>\n",
              "      <td>2007.94500</td>\n",
              "    </tr>\n",
              "    <tr>\n",
              "      <th>1337</th>\n",
              "      <td>29141.36030</td>\n",
              "    </tr>\n",
              "  </tbody>\n",
              "</table>\n",
              "<p>1338 rows × 1 columns</p>\n",
              "</div>"
            ],
            "text/plain": [
              "          charges\n",
              "0     16884.92400\n",
              "1      1725.55230\n",
              "2      4449.46200\n",
              "3     21984.47061\n",
              "4      3866.85520\n",
              "...           ...\n",
              "1333  10600.54830\n",
              "1334   2205.98080\n",
              "1335   1629.83350\n",
              "1336   2007.94500\n",
              "1337  29141.36030\n",
              "\n",
              "[1338 rows x 1 columns]"
            ]
          },
          "metadata": {},
          "execution_count": 8
        }
      ]
    },
    {
      "cell_type": "code",
      "metadata": {
        "id": "ar1dF-lA_i4y"
      },
      "source": [
        ""
      ],
      "execution_count": null,
      "outputs": []
    },
    {
      "cell_type": "code",
      "metadata": {
        "id": "-mNbgA68jTz-"
      },
      "source": [
        "from sklearn.impute import SimpleImputer"
      ],
      "execution_count": null,
      "outputs": []
    },
    {
      "cell_type": "code",
      "metadata": {
        "id": "fl7Myrh8_6Ft"
      },
      "source": [
        "imputer = SimpleImputer(missing_values=np.nan,strategy = \"mean\") # imputer is an object of Imputer class \n",
        "imputer = imputer.fit(feature[['age','bmi','children']]) "
      ],
      "execution_count": null,
      "outputs": []
    },
    {
      "cell_type": "code",
      "metadata": {
        "id": "G10P5WODAQFP"
      },
      "source": [
        ""
      ],
      "execution_count": null,
      "outputs": []
    },
    {
      "cell_type": "code",
      "metadata": {
        "id": "h9UFac5Ik91i",
        "colab": {
          "base_uri": "https://localhost:8080/"
        },
        "outputId": "d9ddf482-47d2-4b78-e634-ad03f708080a"
      },
      "source": [
        "feature[['age','bmi','children']]= imputer.transform(feature[['age','bmi','children']])"
      ],
      "execution_count": null,
      "outputs": [
        {
          "output_type": "stream",
          "name": "stderr",
          "text": [
            "/usr/local/lib/python3.7/dist-packages/ipykernel_launcher.py:1: SettingWithCopyWarning: \n",
            "A value is trying to be set on a copy of a slice from a DataFrame.\n",
            "Try using .loc[row_indexer,col_indexer] = value instead\n",
            "\n",
            "See the caveats in the documentation: https://pandas.pydata.org/pandas-docs/stable/user_guide/indexing.html#returning-a-view-versus-a-copy\n",
            "  \"\"\"Entry point for launching an IPython kernel.\n",
            "/usr/local/lib/python3.7/dist-packages/pandas/core/indexing.py:1734: SettingWithCopyWarning: \n",
            "A value is trying to be set on a copy of a slice from a DataFrame.\n",
            "Try using .loc[row_indexer,col_indexer] = value instead\n",
            "\n",
            "See the caveats in the documentation: https://pandas.pydata.org/pandas-docs/stable/user_guide/indexing.html#returning-a-view-versus-a-copy\n",
            "  isetter(loc, value[:, i].tolist())\n"
          ]
        }
      ]
    },
    {
      "cell_type": "code",
      "metadata": {
        "colab": {
          "base_uri": "https://localhost:8080/",
          "height": 424
        },
        "id": "ExTnzm35Ayeq",
        "outputId": "1ca5bd09-0858-4b7e-e3a0-1329be827440"
      },
      "source": [
        "feature"
      ],
      "execution_count": null,
      "outputs": [
        {
          "output_type": "execute_result",
          "data": {
            "text/html": [
              "<div>\n",
              "<style scoped>\n",
              "    .dataframe tbody tr th:only-of-type {\n",
              "        vertical-align: middle;\n",
              "    }\n",
              "\n",
              "    .dataframe tbody tr th {\n",
              "        vertical-align: top;\n",
              "    }\n",
              "\n",
              "    .dataframe thead th {\n",
              "        text-align: right;\n",
              "    }\n",
              "</style>\n",
              "<table border=\"1\" class=\"dataframe\">\n",
              "  <thead>\n",
              "    <tr style=\"text-align: right;\">\n",
              "      <th></th>\n",
              "      <th>age</th>\n",
              "      <th>sex</th>\n",
              "      <th>bmi</th>\n",
              "      <th>children</th>\n",
              "      <th>smoker</th>\n",
              "      <th>region</th>\n",
              "    </tr>\n",
              "  </thead>\n",
              "  <tbody>\n",
              "    <tr>\n",
              "      <th>0</th>\n",
              "      <td>19.0</td>\n",
              "      <td>female</td>\n",
              "      <td>27.900</td>\n",
              "      <td>0.0</td>\n",
              "      <td>yes</td>\n",
              "      <td>southwest</td>\n",
              "    </tr>\n",
              "    <tr>\n",
              "      <th>1</th>\n",
              "      <td>18.0</td>\n",
              "      <td>male</td>\n",
              "      <td>33.770</td>\n",
              "      <td>1.0</td>\n",
              "      <td>no</td>\n",
              "      <td>southeast</td>\n",
              "    </tr>\n",
              "    <tr>\n",
              "      <th>2</th>\n",
              "      <td>28.0</td>\n",
              "      <td>male</td>\n",
              "      <td>33.000</td>\n",
              "      <td>3.0</td>\n",
              "      <td>no</td>\n",
              "      <td>southeast</td>\n",
              "    </tr>\n",
              "    <tr>\n",
              "      <th>3</th>\n",
              "      <td>33.0</td>\n",
              "      <td>male</td>\n",
              "      <td>22.705</td>\n",
              "      <td>0.0</td>\n",
              "      <td>no</td>\n",
              "      <td>northwest</td>\n",
              "    </tr>\n",
              "    <tr>\n",
              "      <th>4</th>\n",
              "      <td>32.0</td>\n",
              "      <td>male</td>\n",
              "      <td>28.880</td>\n",
              "      <td>0.0</td>\n",
              "      <td>no</td>\n",
              "      <td>northwest</td>\n",
              "    </tr>\n",
              "    <tr>\n",
              "      <th>...</th>\n",
              "      <td>...</td>\n",
              "      <td>...</td>\n",
              "      <td>...</td>\n",
              "      <td>...</td>\n",
              "      <td>...</td>\n",
              "      <td>...</td>\n",
              "    </tr>\n",
              "    <tr>\n",
              "      <th>1333</th>\n",
              "      <td>50.0</td>\n",
              "      <td>male</td>\n",
              "      <td>30.970</td>\n",
              "      <td>3.0</td>\n",
              "      <td>no</td>\n",
              "      <td>northwest</td>\n",
              "    </tr>\n",
              "    <tr>\n",
              "      <th>1334</th>\n",
              "      <td>18.0</td>\n",
              "      <td>female</td>\n",
              "      <td>31.920</td>\n",
              "      <td>0.0</td>\n",
              "      <td>no</td>\n",
              "      <td>northeast</td>\n",
              "    </tr>\n",
              "    <tr>\n",
              "      <th>1335</th>\n",
              "      <td>18.0</td>\n",
              "      <td>female</td>\n",
              "      <td>36.850</td>\n",
              "      <td>0.0</td>\n",
              "      <td>no</td>\n",
              "      <td>southeast</td>\n",
              "    </tr>\n",
              "    <tr>\n",
              "      <th>1336</th>\n",
              "      <td>21.0</td>\n",
              "      <td>female</td>\n",
              "      <td>25.800</td>\n",
              "      <td>0.0</td>\n",
              "      <td>no</td>\n",
              "      <td>southwest</td>\n",
              "    </tr>\n",
              "    <tr>\n",
              "      <th>1337</th>\n",
              "      <td>61.0</td>\n",
              "      <td>female</td>\n",
              "      <td>29.070</td>\n",
              "      <td>0.0</td>\n",
              "      <td>yes</td>\n",
              "      <td>northwest</td>\n",
              "    </tr>\n",
              "  </tbody>\n",
              "</table>\n",
              "<p>1338 rows × 6 columns</p>\n",
              "</div>"
            ],
            "text/plain": [
              "       age     sex     bmi  children smoker     region\n",
              "0     19.0  female  27.900       0.0    yes  southwest\n",
              "1     18.0    male  33.770       1.0     no  southeast\n",
              "2     28.0    male  33.000       3.0     no  southeast\n",
              "3     33.0    male  22.705       0.0     no  northwest\n",
              "4     32.0    male  28.880       0.0     no  northwest\n",
              "...    ...     ...     ...       ...    ...        ...\n",
              "1333  50.0    male  30.970       3.0     no  northwest\n",
              "1334  18.0  female  31.920       0.0     no  northeast\n",
              "1335  18.0  female  36.850       0.0     no  southeast\n",
              "1336  21.0  female  25.800       0.0     no  southwest\n",
              "1337  61.0  female  29.070       0.0    yes  northwest\n",
              "\n",
              "[1338 rows x 6 columns]"
            ]
          },
          "metadata": {},
          "execution_count": 12
        }
      ]
    },
    {
      "cell_type": "code",
      "metadata": {
        "id": "UC27-qMeA3aY"
      },
      "source": [
        "imputer = SimpleImputer(missing_values=np.nan,strategy = \"mean\") # imputer is an object of Imputer class \n",
        "imputer = imputer.fit(target[['charges']]) "
      ],
      "execution_count": null,
      "outputs": []
    },
    {
      "cell_type": "code",
      "metadata": {
        "colab": {
          "base_uri": "https://localhost:8080/"
        },
        "id": "0ivmbC4NBXbm",
        "outputId": "13c74162-7305-4ba3-e9f8-0d651312984c"
      },
      "source": [
        "target[['charges']]= imputer.transform(target[['charges']])"
      ],
      "execution_count": null,
      "outputs": [
        {
          "output_type": "stream",
          "name": "stderr",
          "text": [
            "/usr/local/lib/python3.7/dist-packages/ipykernel_launcher.py:1: SettingWithCopyWarning: \n",
            "A value is trying to be set on a copy of a slice from a DataFrame.\n",
            "Try using .loc[row_indexer,col_indexer] = value instead\n",
            "\n",
            "See the caveats in the documentation: https://pandas.pydata.org/pandas-docs/stable/user_guide/indexing.html#returning-a-view-versus-a-copy\n",
            "  \"\"\"Entry point for launching an IPython kernel.\n",
            "/usr/local/lib/python3.7/dist-packages/pandas/core/frame.py:3076: SettingWithCopyWarning: \n",
            "A value is trying to be set on a copy of a slice from a DataFrame\n",
            "\n",
            "See the caveats in the documentation: https://pandas.pydata.org/pandas-docs/stable/user_guide/indexing.html#returning-a-view-versus-a-copy\n",
            "  self.iloc._setitem_with_indexer((slice(None), indexer), value)\n",
            "/usr/local/lib/python3.7/dist-packages/pandas/core/frame.py:3041: SettingWithCopyWarning: \n",
            "A value is trying to be set on a copy of a slice from a DataFrame\n",
            "\n",
            "See the caveats in the documentation: https://pandas.pydata.org/pandas-docs/stable/user_guide/indexing.html#returning-a-view-versus-a-copy\n",
            "  self._setitem_array(key, value)\n"
          ]
        }
      ]
    },
    {
      "cell_type": "code",
      "metadata": {
        "colab": {
          "base_uri": "https://localhost:8080/",
          "height": 424
        },
        "id": "rFdubewhBzsD",
        "outputId": "23ac415a-cba5-4ab5-e1e7-b18e7328e52f"
      },
      "source": [
        "target"
      ],
      "execution_count": null,
      "outputs": [
        {
          "output_type": "execute_result",
          "data": {
            "text/html": [
              "<div>\n",
              "<style scoped>\n",
              "    .dataframe tbody tr th:only-of-type {\n",
              "        vertical-align: middle;\n",
              "    }\n",
              "\n",
              "    .dataframe tbody tr th {\n",
              "        vertical-align: top;\n",
              "    }\n",
              "\n",
              "    .dataframe thead th {\n",
              "        text-align: right;\n",
              "    }\n",
              "</style>\n",
              "<table border=\"1\" class=\"dataframe\">\n",
              "  <thead>\n",
              "    <tr style=\"text-align: right;\">\n",
              "      <th></th>\n",
              "      <th>charges</th>\n",
              "    </tr>\n",
              "  </thead>\n",
              "  <tbody>\n",
              "    <tr>\n",
              "      <th>0</th>\n",
              "      <td>16884.92400</td>\n",
              "    </tr>\n",
              "    <tr>\n",
              "      <th>1</th>\n",
              "      <td>1725.55230</td>\n",
              "    </tr>\n",
              "    <tr>\n",
              "      <th>2</th>\n",
              "      <td>4449.46200</td>\n",
              "    </tr>\n",
              "    <tr>\n",
              "      <th>3</th>\n",
              "      <td>21984.47061</td>\n",
              "    </tr>\n",
              "    <tr>\n",
              "      <th>4</th>\n",
              "      <td>3866.85520</td>\n",
              "    </tr>\n",
              "    <tr>\n",
              "      <th>...</th>\n",
              "      <td>...</td>\n",
              "    </tr>\n",
              "    <tr>\n",
              "      <th>1333</th>\n",
              "      <td>10600.54830</td>\n",
              "    </tr>\n",
              "    <tr>\n",
              "      <th>1334</th>\n",
              "      <td>2205.98080</td>\n",
              "    </tr>\n",
              "    <tr>\n",
              "      <th>1335</th>\n",
              "      <td>1629.83350</td>\n",
              "    </tr>\n",
              "    <tr>\n",
              "      <th>1336</th>\n",
              "      <td>2007.94500</td>\n",
              "    </tr>\n",
              "    <tr>\n",
              "      <th>1337</th>\n",
              "      <td>29141.36030</td>\n",
              "    </tr>\n",
              "  </tbody>\n",
              "</table>\n",
              "<p>1338 rows × 1 columns</p>\n",
              "</div>"
            ],
            "text/plain": [
              "          charges\n",
              "0     16884.92400\n",
              "1      1725.55230\n",
              "2      4449.46200\n",
              "3     21984.47061\n",
              "4      3866.85520\n",
              "...           ...\n",
              "1333  10600.54830\n",
              "1334   2205.98080\n",
              "1335   1629.83350\n",
              "1336   2007.94500\n",
              "1337  29141.36030\n",
              "\n",
              "[1338 rows x 1 columns]"
            ]
          },
          "metadata": {},
          "execution_count": 15
        }
      ]
    },
    {
      "cell_type": "code",
      "metadata": {
        "colab": {
          "base_uri": "https://localhost:8080/"
        },
        "id": "dzOIzkroB3qU",
        "outputId": "0f0e4876-bd1d-499f-f5bc-a6f274845b5c"
      },
      "source": [
        "feature['sex'].unique()\n",
        "feature['sex'].value_counts()"
      ],
      "execution_count": null,
      "outputs": [
        {
          "output_type": "execute_result",
          "data": {
            "text/plain": [
              "male      676\n",
              "female    662\n",
              "Name: sex, dtype: int64"
            ]
          },
          "metadata": {},
          "execution_count": 16
        }
      ]
    },
    {
      "cell_type": "code",
      "metadata": {
        "id": "KgSbSUaJD-nw",
        "colab": {
          "base_uri": "https://localhost:8080/"
        },
        "outputId": "7fbad3fa-b524-4153-9910-6c4d851b6610"
      },
      "source": [
        "feature['smoker'].unique()\n",
        "feature['smoker'].value_counts()"
      ],
      "execution_count": null,
      "outputs": [
        {
          "output_type": "execute_result",
          "data": {
            "text/plain": [
              "no     1064\n",
              "yes     274\n",
              "Name: smoker, dtype: int64"
            ]
          },
          "metadata": {},
          "execution_count": 17
        }
      ]
    },
    {
      "cell_type": "code",
      "metadata": {
        "id": "9CS2ffP_D82r",
        "colab": {
          "base_uri": "https://localhost:8080/"
        },
        "outputId": "90fb8dc9-a576-4189-d4d1-e8c944a843b5"
      },
      "source": [
        "feature['region'].unique()\n",
        "feature['region'].value_counts()"
      ],
      "execution_count": null,
      "outputs": [
        {
          "output_type": "execute_result",
          "data": {
            "text/plain": [
              "southeast    364\n",
              "northwest    325\n",
              "southwest    325\n",
              "northeast    324\n",
              "Name: region, dtype: int64"
            ]
          },
          "metadata": {},
          "execution_count": 18
        }
      ]
    },
    {
      "cell_type": "code",
      "metadata": {
        "id": "qz4Sy5R1G6-l"
      },
      "source": [
        "from sklearn.preprocessing import LabelEncoder,OneHotEncoder"
      ],
      "execution_count": null,
      "outputs": []
    },
    {
      "cell_type": "code",
      "metadata": {
        "id": "Rx5F337KHJvC"
      },
      "source": [
        "encoder=OneHotEncoder(sparse=False)\n",
        "encoded_labels = pd.DataFrame(encoder.fit_transform(feature[['sex','smoker','region']]))"
      ],
      "execution_count": null,
      "outputs": []
    },
    {
      "cell_type": "code",
      "metadata": {
        "colab": {
          "base_uri": "https://localhost:8080/",
          "height": 478
        },
        "id": "VSk-aVR9HaKt",
        "outputId": "a0d53182-759c-4a16-cd62-879fecee34b2"
      },
      "source": [
        "encoded_labels.columns = encoder.get_feature_names(['sex','smoker','region'])\n",
        "dataset= pd.concat([feature, encoded_labels], axis=1)\n",
        "dataset"
      ],
      "execution_count": null,
      "outputs": [
        {
          "output_type": "stream",
          "name": "stderr",
          "text": [
            "/usr/local/lib/python3.7/dist-packages/sklearn/utils/deprecation.py:87: FutureWarning: Function get_feature_names is deprecated; get_feature_names is deprecated in 1.0 and will be removed in 1.2. Please use get_feature_names_out instead.\n",
            "  warnings.warn(msg, category=FutureWarning)\n"
          ]
        },
        {
          "output_type": "execute_result",
          "data": {
            "text/html": [
              "<div>\n",
              "<style scoped>\n",
              "    .dataframe tbody tr th:only-of-type {\n",
              "        vertical-align: middle;\n",
              "    }\n",
              "\n",
              "    .dataframe tbody tr th {\n",
              "        vertical-align: top;\n",
              "    }\n",
              "\n",
              "    .dataframe thead th {\n",
              "        text-align: right;\n",
              "    }\n",
              "</style>\n",
              "<table border=\"1\" class=\"dataframe\">\n",
              "  <thead>\n",
              "    <tr style=\"text-align: right;\">\n",
              "      <th></th>\n",
              "      <th>age</th>\n",
              "      <th>sex</th>\n",
              "      <th>bmi</th>\n",
              "      <th>children</th>\n",
              "      <th>smoker</th>\n",
              "      <th>region</th>\n",
              "      <th>sex_female</th>\n",
              "      <th>sex_male</th>\n",
              "      <th>smoker_no</th>\n",
              "      <th>smoker_yes</th>\n",
              "      <th>region_northeast</th>\n",
              "      <th>region_northwest</th>\n",
              "      <th>region_southeast</th>\n",
              "      <th>region_southwest</th>\n",
              "    </tr>\n",
              "  </thead>\n",
              "  <tbody>\n",
              "    <tr>\n",
              "      <th>0</th>\n",
              "      <td>19.0</td>\n",
              "      <td>female</td>\n",
              "      <td>27.900</td>\n",
              "      <td>0.0</td>\n",
              "      <td>yes</td>\n",
              "      <td>southwest</td>\n",
              "      <td>1.0</td>\n",
              "      <td>0.0</td>\n",
              "      <td>0.0</td>\n",
              "      <td>1.0</td>\n",
              "      <td>0.0</td>\n",
              "      <td>0.0</td>\n",
              "      <td>0.0</td>\n",
              "      <td>1.0</td>\n",
              "    </tr>\n",
              "    <tr>\n",
              "      <th>1</th>\n",
              "      <td>18.0</td>\n",
              "      <td>male</td>\n",
              "      <td>33.770</td>\n",
              "      <td>1.0</td>\n",
              "      <td>no</td>\n",
              "      <td>southeast</td>\n",
              "      <td>0.0</td>\n",
              "      <td>1.0</td>\n",
              "      <td>1.0</td>\n",
              "      <td>0.0</td>\n",
              "      <td>0.0</td>\n",
              "      <td>0.0</td>\n",
              "      <td>1.0</td>\n",
              "      <td>0.0</td>\n",
              "    </tr>\n",
              "    <tr>\n",
              "      <th>2</th>\n",
              "      <td>28.0</td>\n",
              "      <td>male</td>\n",
              "      <td>33.000</td>\n",
              "      <td>3.0</td>\n",
              "      <td>no</td>\n",
              "      <td>southeast</td>\n",
              "      <td>0.0</td>\n",
              "      <td>1.0</td>\n",
              "      <td>1.0</td>\n",
              "      <td>0.0</td>\n",
              "      <td>0.0</td>\n",
              "      <td>0.0</td>\n",
              "      <td>1.0</td>\n",
              "      <td>0.0</td>\n",
              "    </tr>\n",
              "    <tr>\n",
              "      <th>3</th>\n",
              "      <td>33.0</td>\n",
              "      <td>male</td>\n",
              "      <td>22.705</td>\n",
              "      <td>0.0</td>\n",
              "      <td>no</td>\n",
              "      <td>northwest</td>\n",
              "      <td>0.0</td>\n",
              "      <td>1.0</td>\n",
              "      <td>1.0</td>\n",
              "      <td>0.0</td>\n",
              "      <td>0.0</td>\n",
              "      <td>1.0</td>\n",
              "      <td>0.0</td>\n",
              "      <td>0.0</td>\n",
              "    </tr>\n",
              "    <tr>\n",
              "      <th>4</th>\n",
              "      <td>32.0</td>\n",
              "      <td>male</td>\n",
              "      <td>28.880</td>\n",
              "      <td>0.0</td>\n",
              "      <td>no</td>\n",
              "      <td>northwest</td>\n",
              "      <td>0.0</td>\n",
              "      <td>1.0</td>\n",
              "      <td>1.0</td>\n",
              "      <td>0.0</td>\n",
              "      <td>0.0</td>\n",
              "      <td>1.0</td>\n",
              "      <td>0.0</td>\n",
              "      <td>0.0</td>\n",
              "    </tr>\n",
              "    <tr>\n",
              "      <th>...</th>\n",
              "      <td>...</td>\n",
              "      <td>...</td>\n",
              "      <td>...</td>\n",
              "      <td>...</td>\n",
              "      <td>...</td>\n",
              "      <td>...</td>\n",
              "      <td>...</td>\n",
              "      <td>...</td>\n",
              "      <td>...</td>\n",
              "      <td>...</td>\n",
              "      <td>...</td>\n",
              "      <td>...</td>\n",
              "      <td>...</td>\n",
              "      <td>...</td>\n",
              "    </tr>\n",
              "    <tr>\n",
              "      <th>1333</th>\n",
              "      <td>50.0</td>\n",
              "      <td>male</td>\n",
              "      <td>30.970</td>\n",
              "      <td>3.0</td>\n",
              "      <td>no</td>\n",
              "      <td>northwest</td>\n",
              "      <td>0.0</td>\n",
              "      <td>1.0</td>\n",
              "      <td>1.0</td>\n",
              "      <td>0.0</td>\n",
              "      <td>0.0</td>\n",
              "      <td>1.0</td>\n",
              "      <td>0.0</td>\n",
              "      <td>0.0</td>\n",
              "    </tr>\n",
              "    <tr>\n",
              "      <th>1334</th>\n",
              "      <td>18.0</td>\n",
              "      <td>female</td>\n",
              "      <td>31.920</td>\n",
              "      <td>0.0</td>\n",
              "      <td>no</td>\n",
              "      <td>northeast</td>\n",
              "      <td>1.0</td>\n",
              "      <td>0.0</td>\n",
              "      <td>1.0</td>\n",
              "      <td>0.0</td>\n",
              "      <td>1.0</td>\n",
              "      <td>0.0</td>\n",
              "      <td>0.0</td>\n",
              "      <td>0.0</td>\n",
              "    </tr>\n",
              "    <tr>\n",
              "      <th>1335</th>\n",
              "      <td>18.0</td>\n",
              "      <td>female</td>\n",
              "      <td>36.850</td>\n",
              "      <td>0.0</td>\n",
              "      <td>no</td>\n",
              "      <td>southeast</td>\n",
              "      <td>1.0</td>\n",
              "      <td>0.0</td>\n",
              "      <td>1.0</td>\n",
              "      <td>0.0</td>\n",
              "      <td>0.0</td>\n",
              "      <td>0.0</td>\n",
              "      <td>1.0</td>\n",
              "      <td>0.0</td>\n",
              "    </tr>\n",
              "    <tr>\n",
              "      <th>1336</th>\n",
              "      <td>21.0</td>\n",
              "      <td>female</td>\n",
              "      <td>25.800</td>\n",
              "      <td>0.0</td>\n",
              "      <td>no</td>\n",
              "      <td>southwest</td>\n",
              "      <td>1.0</td>\n",
              "      <td>0.0</td>\n",
              "      <td>1.0</td>\n",
              "      <td>0.0</td>\n",
              "      <td>0.0</td>\n",
              "      <td>0.0</td>\n",
              "      <td>0.0</td>\n",
              "      <td>1.0</td>\n",
              "    </tr>\n",
              "    <tr>\n",
              "      <th>1337</th>\n",
              "      <td>61.0</td>\n",
              "      <td>female</td>\n",
              "      <td>29.070</td>\n",
              "      <td>0.0</td>\n",
              "      <td>yes</td>\n",
              "      <td>northwest</td>\n",
              "      <td>1.0</td>\n",
              "      <td>0.0</td>\n",
              "      <td>0.0</td>\n",
              "      <td>1.0</td>\n",
              "      <td>0.0</td>\n",
              "      <td>1.0</td>\n",
              "      <td>0.0</td>\n",
              "      <td>0.0</td>\n",
              "    </tr>\n",
              "  </tbody>\n",
              "</table>\n",
              "<p>1338 rows × 14 columns</p>\n",
              "</div>"
            ],
            "text/plain": [
              "       age     sex  ...  region_southeast  region_southwest\n",
              "0     19.0  female  ...               0.0               1.0\n",
              "1     18.0    male  ...               1.0               0.0\n",
              "2     28.0    male  ...               1.0               0.0\n",
              "3     33.0    male  ...               0.0               0.0\n",
              "4     32.0    male  ...               0.0               0.0\n",
              "...    ...     ...  ...               ...               ...\n",
              "1333  50.0    male  ...               0.0               0.0\n",
              "1334  18.0  female  ...               0.0               0.0\n",
              "1335  18.0  female  ...               1.0               0.0\n",
              "1336  21.0  female  ...               0.0               1.0\n",
              "1337  61.0  female  ...               0.0               0.0\n",
              "\n",
              "[1338 rows x 14 columns]"
            ]
          },
          "metadata": {},
          "execution_count": 21
        }
      ]
    },
    {
      "cell_type": "code",
      "metadata": {
        "id": "1aciZTuCDjph",
        "colab": {
          "base_uri": "https://localhost:8080/"
        },
        "outputId": "f24ea6f0-ab7f-4c40-faa2-3d5f8328fadb"
      },
      "source": [
        "dataset.columns"
      ],
      "execution_count": null,
      "outputs": [
        {
          "output_type": "execute_result",
          "data": {
            "text/plain": [
              "Index(['age', 'sex', 'bmi', 'children', 'smoker', 'region', 'sex_female',\n",
              "       'sex_male', 'smoker_no', 'smoker_yes', 'region_northeast',\n",
              "       'region_northwest', 'region_southeast', 'region_southwest'],\n",
              "      dtype='object')"
            ]
          },
          "metadata": {},
          "execution_count": 22
        }
      ]
    },
    {
      "cell_type": "code",
      "metadata": {
        "id": "E7dr1t9xIRvm"
      },
      "source": [
        "new_features = dataset[['age', 'bmi', 'children', 'sex_female',\n",
        "       'sex_male', 'smoker_no', 'smoker_yes', 'region_northeast',\n",
        "       'region_northwest', 'region_southeast', 'region_southwest']]"
      ],
      "execution_count": null,
      "outputs": []
    },
    {
      "cell_type": "code",
      "metadata": {
        "colab": {
          "base_uri": "https://localhost:8080/"
        },
        "id": "MiXcdYZ6I2QL",
        "outputId": "d95f826b-2b4a-4274-ea10-ba04a50f52cf"
      },
      "source": [
        "from sklearn.model_selection import train_test_split\n",
        "\"\"\"Spliting the Dataset into Training Set and Test Set \"\"\"\n",
        "\n",
        "X_train,X_test,y_train,y_test=train_test_split(new_features,target,test_size=0.2,random_state=0)\n",
        "# random_state = 0 is select to get the same result\n",
        "print(X_train.shape)\n",
        "print(X_test.shape)"
      ],
      "execution_count": null,
      "outputs": [
        {
          "output_type": "stream",
          "name": "stdout",
          "text": [
            "(1070, 11)\n",
            "(268, 11)\n"
          ]
        }
      ]
    },
    {
      "cell_type": "code",
      "metadata": {
        "colab": {
          "base_uri": "https://localhost:8080/",
          "height": 424
        },
        "id": "Rz3UlCv0JibP",
        "outputId": "95da0a27-10de-44fe-86d3-75ac271dda35"
      },
      "source": [
        "X_train"
      ],
      "execution_count": null,
      "outputs": [
        {
          "output_type": "execute_result",
          "data": {
            "text/html": [
              "<div>\n",
              "<style scoped>\n",
              "    .dataframe tbody tr th:only-of-type {\n",
              "        vertical-align: middle;\n",
              "    }\n",
              "\n",
              "    .dataframe tbody tr th {\n",
              "        vertical-align: top;\n",
              "    }\n",
              "\n",
              "    .dataframe thead th {\n",
              "        text-align: right;\n",
              "    }\n",
              "</style>\n",
              "<table border=\"1\" class=\"dataframe\">\n",
              "  <thead>\n",
              "    <tr style=\"text-align: right;\">\n",
              "      <th></th>\n",
              "      <th>age</th>\n",
              "      <th>bmi</th>\n",
              "      <th>children</th>\n",
              "      <th>sex_female</th>\n",
              "      <th>sex_male</th>\n",
              "      <th>smoker_no</th>\n",
              "      <th>smoker_yes</th>\n",
              "      <th>region_northeast</th>\n",
              "      <th>region_northwest</th>\n",
              "      <th>region_southeast</th>\n",
              "      <th>region_southwest</th>\n",
              "    </tr>\n",
              "  </thead>\n",
              "  <tbody>\n",
              "    <tr>\n",
              "      <th>621</th>\n",
              "      <td>37.0</td>\n",
              "      <td>34.100</td>\n",
              "      <td>4.0</td>\n",
              "      <td>0.0</td>\n",
              "      <td>1.0</td>\n",
              "      <td>0.0</td>\n",
              "      <td>1.0</td>\n",
              "      <td>0.0</td>\n",
              "      <td>0.0</td>\n",
              "      <td>0.0</td>\n",
              "      <td>1.0</td>\n",
              "    </tr>\n",
              "    <tr>\n",
              "      <th>194</th>\n",
              "      <td>18.0</td>\n",
              "      <td>34.430</td>\n",
              "      <td>0.0</td>\n",
              "      <td>0.0</td>\n",
              "      <td>1.0</td>\n",
              "      <td>1.0</td>\n",
              "      <td>0.0</td>\n",
              "      <td>0.0</td>\n",
              "      <td>0.0</td>\n",
              "      <td>1.0</td>\n",
              "      <td>0.0</td>\n",
              "    </tr>\n",
              "    <tr>\n",
              "      <th>240</th>\n",
              "      <td>23.0</td>\n",
              "      <td>36.670</td>\n",
              "      <td>2.0</td>\n",
              "      <td>1.0</td>\n",
              "      <td>0.0</td>\n",
              "      <td>0.0</td>\n",
              "      <td>1.0</td>\n",
              "      <td>1.0</td>\n",
              "      <td>0.0</td>\n",
              "      <td>0.0</td>\n",
              "      <td>0.0</td>\n",
              "    </tr>\n",
              "    <tr>\n",
              "      <th>1168</th>\n",
              "      <td>32.0</td>\n",
              "      <td>35.200</td>\n",
              "      <td>2.0</td>\n",
              "      <td>0.0</td>\n",
              "      <td>1.0</td>\n",
              "      <td>1.0</td>\n",
              "      <td>0.0</td>\n",
              "      <td>0.0</td>\n",
              "      <td>0.0</td>\n",
              "      <td>0.0</td>\n",
              "      <td>1.0</td>\n",
              "    </tr>\n",
              "    <tr>\n",
              "      <th>1192</th>\n",
              "      <td>58.0</td>\n",
              "      <td>32.395</td>\n",
              "      <td>1.0</td>\n",
              "      <td>1.0</td>\n",
              "      <td>0.0</td>\n",
              "      <td>1.0</td>\n",
              "      <td>0.0</td>\n",
              "      <td>1.0</td>\n",
              "      <td>0.0</td>\n",
              "      <td>0.0</td>\n",
              "      <td>0.0</td>\n",
              "    </tr>\n",
              "    <tr>\n",
              "      <th>...</th>\n",
              "      <td>...</td>\n",
              "      <td>...</td>\n",
              "      <td>...</td>\n",
              "      <td>...</td>\n",
              "      <td>...</td>\n",
              "      <td>...</td>\n",
              "      <td>...</td>\n",
              "      <td>...</td>\n",
              "      <td>...</td>\n",
              "      <td>...</td>\n",
              "      <td>...</td>\n",
              "    </tr>\n",
              "    <tr>\n",
              "      <th>763</th>\n",
              "      <td>27.0</td>\n",
              "      <td>26.030</td>\n",
              "      <td>0.0</td>\n",
              "      <td>0.0</td>\n",
              "      <td>1.0</td>\n",
              "      <td>1.0</td>\n",
              "      <td>0.0</td>\n",
              "      <td>1.0</td>\n",
              "      <td>0.0</td>\n",
              "      <td>0.0</td>\n",
              "      <td>0.0</td>\n",
              "    </tr>\n",
              "    <tr>\n",
              "      <th>835</th>\n",
              "      <td>42.0</td>\n",
              "      <td>35.970</td>\n",
              "      <td>2.0</td>\n",
              "      <td>0.0</td>\n",
              "      <td>1.0</td>\n",
              "      <td>1.0</td>\n",
              "      <td>0.0</td>\n",
              "      <td>0.0</td>\n",
              "      <td>0.0</td>\n",
              "      <td>1.0</td>\n",
              "      <td>0.0</td>\n",
              "    </tr>\n",
              "    <tr>\n",
              "      <th>1216</th>\n",
              "      <td>40.0</td>\n",
              "      <td>25.080</td>\n",
              "      <td>0.0</td>\n",
              "      <td>0.0</td>\n",
              "      <td>1.0</td>\n",
              "      <td>1.0</td>\n",
              "      <td>0.0</td>\n",
              "      <td>0.0</td>\n",
              "      <td>0.0</td>\n",
              "      <td>1.0</td>\n",
              "      <td>0.0</td>\n",
              "    </tr>\n",
              "    <tr>\n",
              "      <th>559</th>\n",
              "      <td>19.0</td>\n",
              "      <td>35.530</td>\n",
              "      <td>0.0</td>\n",
              "      <td>0.0</td>\n",
              "      <td>1.0</td>\n",
              "      <td>1.0</td>\n",
              "      <td>0.0</td>\n",
              "      <td>0.0</td>\n",
              "      <td>1.0</td>\n",
              "      <td>0.0</td>\n",
              "      <td>0.0</td>\n",
              "    </tr>\n",
              "    <tr>\n",
              "      <th>684</th>\n",
              "      <td>33.0</td>\n",
              "      <td>18.500</td>\n",
              "      <td>1.0</td>\n",
              "      <td>1.0</td>\n",
              "      <td>0.0</td>\n",
              "      <td>1.0</td>\n",
              "      <td>0.0</td>\n",
              "      <td>0.0</td>\n",
              "      <td>0.0</td>\n",
              "      <td>0.0</td>\n",
              "      <td>1.0</td>\n",
              "    </tr>\n",
              "  </tbody>\n",
              "</table>\n",
              "<p>1070 rows × 11 columns</p>\n",
              "</div>"
            ],
            "text/plain": [
              "       age     bmi  ...  region_southeast  region_southwest\n",
              "621   37.0  34.100  ...               0.0               1.0\n",
              "194   18.0  34.430  ...               1.0               0.0\n",
              "240   23.0  36.670  ...               0.0               0.0\n",
              "1168  32.0  35.200  ...               0.0               1.0\n",
              "1192  58.0  32.395  ...               0.0               0.0\n",
              "...    ...     ...  ...               ...               ...\n",
              "763   27.0  26.030  ...               0.0               0.0\n",
              "835   42.0  35.970  ...               1.0               0.0\n",
              "1216  40.0  25.080  ...               1.0               0.0\n",
              "559   19.0  35.530  ...               0.0               0.0\n",
              "684   33.0  18.500  ...               0.0               1.0\n",
              "\n",
              "[1070 rows x 11 columns]"
            ]
          },
          "metadata": {},
          "execution_count": 27
        }
      ]
    },
    {
      "cell_type": "code",
      "metadata": {
        "colab": {
          "base_uri": "https://localhost:8080/",
          "height": 424
        },
        "id": "1Yb8nOI8JnuN",
        "outputId": "93bdec57-a551-4584-bba5-a3d96fa5be3b"
      },
      "source": [
        "# Fitting Multiple Linear Regression Model to Training Set\n",
        "from sklearn.linear_model import LinearRegression\n",
        "\n",
        "regressor = LinearRegression()\n",
        "regressor.fit(X_train,y_train)\n",
        "\n",
        "# Predicting the Test Set Results\n",
        "y_pred = regressor.predict(X_test)\n",
        "y_test"
      ],
      "execution_count": null,
      "outputs": [
        {
          "output_type": "execute_result",
          "data": {
            "text/html": [
              "<div>\n",
              "<style scoped>\n",
              "    .dataframe tbody tr th:only-of-type {\n",
              "        vertical-align: middle;\n",
              "    }\n",
              "\n",
              "    .dataframe tbody tr th {\n",
              "        vertical-align: top;\n",
              "    }\n",
              "\n",
              "    .dataframe thead th {\n",
              "        text-align: right;\n",
              "    }\n",
              "</style>\n",
              "<table border=\"1\" class=\"dataframe\">\n",
              "  <thead>\n",
              "    <tr style=\"text-align: right;\">\n",
              "      <th></th>\n",
              "      <th>charges</th>\n",
              "    </tr>\n",
              "  </thead>\n",
              "  <tbody>\n",
              "    <tr>\n",
              "      <th>578</th>\n",
              "      <td>9724.53000</td>\n",
              "    </tr>\n",
              "    <tr>\n",
              "      <th>610</th>\n",
              "      <td>8547.69130</td>\n",
              "    </tr>\n",
              "    <tr>\n",
              "      <th>569</th>\n",
              "      <td>45702.02235</td>\n",
              "    </tr>\n",
              "    <tr>\n",
              "      <th>1034</th>\n",
              "      <td>12950.07120</td>\n",
              "    </tr>\n",
              "    <tr>\n",
              "      <th>198</th>\n",
              "      <td>9644.25250</td>\n",
              "    </tr>\n",
              "    <tr>\n",
              "      <th>...</th>\n",
              "      <td>...</td>\n",
              "    </tr>\n",
              "    <tr>\n",
              "      <th>1084</th>\n",
              "      <td>15019.76005</td>\n",
              "    </tr>\n",
              "    <tr>\n",
              "      <th>726</th>\n",
              "      <td>6664.68595</td>\n",
              "    </tr>\n",
              "    <tr>\n",
              "      <th>1132</th>\n",
              "      <td>20709.02034</td>\n",
              "    </tr>\n",
              "    <tr>\n",
              "      <th>725</th>\n",
              "      <td>40932.42950</td>\n",
              "    </tr>\n",
              "    <tr>\n",
              "      <th>963</th>\n",
              "      <td>9500.57305</td>\n",
              "    </tr>\n",
              "  </tbody>\n",
              "</table>\n",
              "<p>268 rows × 1 columns</p>\n",
              "</div>"
            ],
            "text/plain": [
              "          charges\n",
              "578    9724.53000\n",
              "610    8547.69130\n",
              "569   45702.02235\n",
              "1034  12950.07120\n",
              "198    9644.25250\n",
              "...           ...\n",
              "1084  15019.76005\n",
              "726    6664.68595\n",
              "1132  20709.02034\n",
              "725   40932.42950\n",
              "963    9500.57305\n",
              "\n",
              "[268 rows x 1 columns]"
            ]
          },
          "metadata": {},
          "execution_count": 28
        }
      ]
    },
    {
      "cell_type": "code",
      "metadata": {
        "colab": {
          "base_uri": "https://localhost:8080/"
        },
        "id": "Fua30UBsKBbM",
        "outputId": "31e52f3b-5e18-4ae0-d37c-93121083606b"
      },
      "source": [
        "y_pred"
      ],
      "execution_count": null,
      "outputs": [
        {
          "output_type": "execute_result",
          "data": {
            "text/plain": [
              "array([[1.11699271e+04],\n",
              "       [9.48670909e+03],\n",
              "       [3.81811231e+04],\n",
              "       [1.62663133e+04],\n",
              "       [6.91464801e+03],\n",
              "       [3.96348488e+03],\n",
              "       [1.57939691e+03],\n",
              "       [1.43852566e+04],\n",
              "       [9.01257970e+03],\n",
              "       [7.50846068e+03],\n",
              "       [4.49176728e+03],\n",
              "       [1.02795839e+04],\n",
              "       [8.80129751e+03],\n",
              "       [3.79802013e+03],\n",
              "       [2.79262010e+04],\n",
              "       [1.07151158e+04],\n",
              "       [1.12889756e+04],\n",
              "       [6.10501768e+03],\n",
              "       [8.24104117e+03],\n",
              "       [2.71445089e+04],\n",
              "       [3.36440910e+04],\n",
              "       [1.43551043e+04],\n",
              "       [1.17372043e+04],\n",
              "       [3.21374335e+04],\n",
              "       [4.17005913e+03],\n",
              "       [9.25496051e+03],\n",
              "       [1.08433751e+03],\n",
              "       [9.80417085e+03],\n",
              "       [3.77104596e+03],\n",
              "       [1.04318587e+04],\n",
              "       [9.00931722e+03],\n",
              "       [4.00749509e+04],\n",
              "       [1.56889543e+04],\n",
              "       [1.38794545e+04],\n",
              "       [2.47597127e+04],\n",
              "       [5.16638285e+03],\n",
              "       [1.26109277e+04],\n",
              "       [3.07691018e+04],\n",
              "       [3.35498325e+04],\n",
              "       [3.67154946e+03],\n",
              "       [3.97568613e+03],\n",
              "       [3.98729942e+03],\n",
              "       [3.05285774e+04],\n",
              "       [3.95053023e+04],\n",
              "       [2.78105036e+04],\n",
              "       [5.09258923e+03],\n",
              "       [1.06042481e+04],\n",
              "       [7.82952256e+03],\n",
              "       [3.59255553e+03],\n",
              "       [1.02128745e+04],\n",
              "       [5.72038147e+03],\n",
              "       [3.42627499e+03],\n",
              "       [3.30210242e+04],\n",
              "       [3.84738218e+04],\n",
              "       [1.60534782e+04],\n",
              "       [7.16491905e+03],\n",
              "       [5.73919977e+03],\n",
              "       [9.45413291e+03],\n",
              "       [8.91062701e+03],\n",
              "       [1.17258857e+04],\n",
              "       [1.85695629e+03],\n",
              "       [3.89143605e+04],\n",
              "       [1.48996730e+04],\n",
              "       [1.18049582e+04],\n",
              "       [1.40504025e+04],\n",
              "       [1.40561445e+04],\n",
              "       [2.58313858e+04],\n",
              "       [3.22305543e+04],\n",
              "       [8.14404366e+02],\n",
              "       [1.01648424e+04],\n",
              "       [1.23598596e+04],\n",
              "       [1.15278235e+04],\n",
              "       [2.52453261e+04],\n",
              "       [1.56220088e+04],\n",
              "       [1.12086899e+04],\n",
              "       [1.26497320e+04],\n",
              "       [6.55670777e+03],\n",
              "       [9.59052489e+03],\n",
              "       [3.01863021e+04],\n",
              "       [3.91076220e+04],\n",
              "       [1.20498440e+04],\n",
              "       [3.72942684e+04],\n",
              "       [4.26550696e+03],\n",
              "       [9.39402362e+03],\n",
              "       [3.48527716e+04],\n",
              "       [2.88476976e+04],\n",
              "       [8.68792419e+03],\n",
              "       [4.92922782e+03],\n",
              "       [1.20387310e+04],\n",
              "       [3.04700336e+04],\n",
              "       [1.00804115e+04],\n",
              "       [1.13933297e+04],\n",
              "       [8.39810225e+03],\n",
              "       [8.89883547e+03],\n",
              "       [8.43179031e+03],\n",
              "       [7.32351973e+03],\n",
              "       [3.60240264e+04],\n",
              "       [3.31822505e+04],\n",
              "       [7.66151070e+03],\n",
              "       [1.51410434e+04],\n",
              "       [4.01724462e+03],\n",
              "       [8.82872049e+03],\n",
              "       [6.32285473e+03],\n",
              "       [3.15486188e+04],\n",
              "       [3.29786059e+04],\n",
              "       [1.97482884e+03],\n",
              "       [9.02652020e+03],\n",
              "       [6.69683477e+03],\n",
              "       [1.45844352e+04],\n",
              "       [3.72411416e+04],\n",
              "       [1.01354727e+04],\n",
              "       [1.05842948e+04],\n",
              "       [1.02289339e+04],\n",
              "       [2.69881891e+04],\n",
              "       [3.99001531e+04],\n",
              "       [8.46273248e+03],\n",
              "       [2.96616055e+02],\n",
              "       [9.01614987e+03],\n",
              "       [1.52639740e+04],\n",
              "       [9.52664600e+03],\n",
              "       [3.51526354e+04],\n",
              "       [7.26409791e+03],\n",
              "       [1.69845335e+04],\n",
              "       [9.65329622e+03],\n",
              "       [8.24868725e+03],\n",
              "       [2.94113601e+03],\n",
              "       [3.29148059e+04],\n",
              "       [3.14835586e+04],\n",
              "       [3.96264776e+04],\n",
              "       [5.60762983e+03],\n",
              "       [9.31034135e+03],\n",
              "       [3.59216725e+03],\n",
              "       [7.64687550e+03],\n",
              "       [8.62747451e+03],\n",
              "       [3.17338367e+04],\n",
              "       [2.99730030e+04],\n",
              "       [2.97817459e+04],\n",
              "       [8.72605750e+03],\n",
              "       [3.24335307e+04],\n",
              "       [3.36029421e+03],\n",
              "       [3.70973675e+03],\n",
              "       [1.11375495e+04],\n",
              "       [1.31502938e+04],\n",
              "       [1.28674710e+04],\n",
              "       [5.44883743e+03],\n",
              "       [1.55800620e+04],\n",
              "       [1.49332492e+04],\n",
              "       [2.40834350e+03],\n",
              "       [2.55105191e+01],\n",
              "       [1.08468131e+04],\n",
              "       [7.40948170e+03],\n",
              "       [3.18522280e+04],\n",
              "       [1.23836972e+04],\n",
              "       [2.33566633e+03],\n",
              "       [6.47818023e+03],\n",
              "       [7.85862923e+03],\n",
              "       [4.44708534e+03],\n",
              "       [2.11393087e+03],\n",
              "       [1.13548234e+04],\n",
              "       [1.25406264e+04],\n",
              "       [7.26445489e+03],\n",
              "       [1.63876100e+04],\n",
              "       [1.18151028e+04],\n",
              "       [1.41078734e+04],\n",
              "       [3.18429940e+03],\n",
              "       [7.29134465e+03],\n",
              "       [2.31256976e+04],\n",
              "       [7.59255833e+03],\n",
              "       [5.49044860e+03],\n",
              "       [5.20329589e+03],\n",
              "       [6.75891084e+03],\n",
              "       [5.19817369e+03],\n",
              "       [1.00037544e+04],\n",
              "       [5.37962241e+03],\n",
              "       [5.73483115e+03],\n",
              "       [6.64184520e+03],\n",
              "       [3.69809973e+03],\n",
              "       [5.56834710e+03],\n",
              "       [3.80623106e+04],\n",
              "       [1.50010025e+03],\n",
              "       [1.26381400e+04],\n",
              "       [8.96683074e+03],\n",
              "       [1.37833538e+04],\n",
              "       [5.40160572e+03],\n",
              "       [5.18838626e+03],\n",
              "       [3.64594383e+04],\n",
              "       [4.39797382e+03],\n",
              "       [2.04401666e+03],\n",
              "       [1.52236399e+04],\n",
              "       [1.26797512e+04],\n",
              "       [3.51385215e+04],\n",
              "       [4.78068826e+03],\n",
              "       [5.68154275e+03],\n",
              "       [3.12300371e+04],\n",
              "       [6.20751775e+03],\n",
              "       [2.15116663e+03],\n",
              "       [8.43897221e+03],\n",
              "       [1.00468638e+04],\n",
              "       [8.00237197e+03],\n",
              "       [5.80481228e+03],\n",
              "       [1.31602625e+04],\n",
              "       [3.84674533e+04],\n",
              "       [1.37503227e+04],\n",
              "       [2.88764140e+04],\n",
              "       [6.78756483e+03],\n",
              "       [3.55308164e+04],\n",
              "       [3.76682638e+03],\n",
              "       [1.18919418e+04],\n",
              "       [9.05961188e+03],\n",
              "       [6.25955354e+03],\n",
              "       [1.13624630e+04],\n",
              "       [1.45614575e+04],\n",
              "       [5.16699954e+03],\n",
              "       [4.46624724e+03],\n",
              "       [7.90887368e+03],\n",
              "       [1.34485587e+03],\n",
              "       [7.85618662e+03],\n",
              "       [4.41748996e+03],\n",
              "       [1.28875526e+04],\n",
              "       [4.24146225e+03],\n",
              "       [1.01131120e+04],\n",
              "       [7.19651081e+03],\n",
              "       [9.29692707e+03],\n",
              "       [2.39780639e+03],\n",
              "       [1.32449759e+04],\n",
              "       [1.68678325e+04],\n",
              "       [1.49416610e+04],\n",
              "       [1.05908697e+04],\n",
              "       [5.29006788e+03],\n",
              "       [2.23337923e+03],\n",
              "       [1.93571212e+03],\n",
              "       [1.35089298e+04],\n",
              "       [1.40528682e+04],\n",
              "       [5.01861017e+03],\n",
              "       [3.75949429e+03],\n",
              "       [9.48805737e+03],\n",
              "       [9.97840316e+03],\n",
              "       [2.82869768e+04],\n",
              "       [7.64934971e+03],\n",
              "       [1.04709900e+04],\n",
              "       [6.32317041e+03],\n",
              "       [2.98547629e+04],\n",
              "       [1.11497389e+04],\n",
              "       [7.50699533e+03],\n",
              "       [1.02337020e+04],\n",
              "       [1.22479679e+04],\n",
              "       [3.00735612e+03],\n",
              "       [1.08754195e+04],\n",
              "       [1.54095549e+03],\n",
              "       [7.03804311e+03],\n",
              "       [2.84462147e+04],\n",
              "       [3.86899494e+04],\n",
              "       [6.36993923e+03],\n",
              "       [8.19218360e+03],\n",
              "       [2.53689093e+03],\n",
              "       [4.46856827e+02],\n",
              "       [1.05698935e+04],\n",
              "       [4.20548633e+03],\n",
              "       [4.95501030e+03],\n",
              "       [2.34316816e+03],\n",
              "       [6.80728001e+03],\n",
              "       [3.34095038e+04],\n",
              "       [3.82467605e+04],\n",
              "       [1.47602310e+04],\n",
              "       [8.27798435e+03],\n",
              "       [1.61499734e+04],\n",
              "       [3.29047581e+04],\n",
              "       [9.46761406e+03]])"
            ]
          },
          "metadata": {},
          "execution_count": 29
        }
      ]
    },
    {
      "cell_type": "code",
      "metadata": {
        "colab": {
          "base_uri": "https://localhost:8080/"
        },
        "id": "Glx9ZXvpKMUx",
        "outputId": "043ca1c8-8710-4f37-ee5c-2ec5b6ccbca4"
      },
      "source": [
        "from sklearn.metrics import mean_absolute_error\n",
        "\n",
        "# MAE\n",
        "mean_absolute_error(y_test, y_pred)\n"
      ],
      "execution_count": null,
      "outputs": [
        {
          "output_type": "execute_result",
          "data": {
            "text/plain": [
              "3933.272649405239"
            ]
          },
          "metadata": {},
          "execution_count": 32
        }
      ]
    },
    {
      "cell_type": "code",
      "metadata": {
        "colab": {
          "base_uri": "https://localhost:8080/"
        },
        "id": "ND5PuMJCKdey",
        "outputId": "990eb5ed-1bf3-40c1-8cd4-c33d9e869cf8"
      },
      "source": [
        "from sklearn.metrics import mean_squared_error\n",
        "\n",
        "mean_squared_error(y_test, y_pred)"
      ],
      "execution_count": null,
      "outputs": [
        {
          "output_type": "execute_result",
          "data": {
            "text/plain": [
              "31827950.229523838"
            ]
          },
          "metadata": {},
          "execution_count": 33
        }
      ]
    },
    {
      "cell_type": "code",
      "metadata": {
        "colab": {
          "base_uri": "https://localhost:8080/"
        },
        "id": "Scu_v4UZKfoO",
        "outputId": "86645535-2e25-4de9-ff6f-af16b789f8df"
      },
      "source": [
        "from sklearn.metrics import r2_score\n",
        "\n",
        "r2_score(y_test, y_pred)"
      ],
      "execution_count": null,
      "outputs": [
        {
          "output_type": "execute_result",
          "data": {
            "text/plain": [
              "0.7999876970680433"
            ]
          },
          "metadata": {},
          "execution_count": 34
        }
      ]
    },
    {
      "cell_type": "code",
      "metadata": {
        "id": "-ei5QqXQKtTe"
      },
      "source": [
        "dataset\n",
        "from sklearn.preprocessing import StandardScaler\n",
        "X_sc = StandardScaler()\n",
        "y_sc = StandardScaler()\n",
        "X_train_new = X_sc.fit_transform(X_train[['age',\t'bmi',\t'children']])\n",
        "X_test_new = X_sc.transform(X_test[['age',\t'bmi',\t'children']])\n",
        "y_train_new = y_sc.fit_transform(y_train[['charges']])\n",
        "y_test_new = y_sc.transform(y_test[['charges']])"
      ],
      "execution_count": null,
      "outputs": []
    },
    {
      "cell_type": "code",
      "metadata": {
        "colab": {
          "base_uri": "https://localhost:8080/"
        },
        "id": "AQtpXnqzLOnk",
        "outputId": "6f4ad004-3cea-40ae-bb7d-c2351d2038bb"
      },
      "source": [
        "# Fitting SVR to the dataset\n",
        "from sklearn.svm import SVR \n",
        "\n",
        "regressor = SVR(kernel = 'linear')\n",
        "regressor.fit(X_train_new,y_train_new)\n",
        "SVR(kernel='linear')\n",
        "y_pred = regressor.predict(X_test_new)\n",
        "r2_score(y_test_new, y_pred)"
      ],
      "execution_count": null,
      "outputs": [
        {
          "output_type": "stream",
          "name": "stderr",
          "text": [
            "/usr/local/lib/python3.7/dist-packages/sklearn/utils/validation.py:985: DataConversionWarning: A column-vector y was passed when a 1d array was expected. Please change the shape of y to (n_samples, ), for example using ravel().\n",
            "  y = column_or_1d(y, warn=True)\n"
          ]
        },
        {
          "output_type": "execute_result",
          "data": {
            "text/plain": [
              "-0.06064713884005468"
            ]
          },
          "metadata": {},
          "execution_count": 36
        }
      ]
    },
    {
      "cell_type": "code",
      "metadata": {
        "colab": {
          "base_uri": "https://localhost:8080/"
        },
        "id": "OD1ERo--Leyr",
        "outputId": "edb20a77-d838-42ab-d978-e1ca5614b6ae"
      },
      "source": [
        "# Fitting the decision tree regression with the dataset\n",
        "from sklearn.tree import DecisionTreeRegressor\n",
        "\n",
        "\n",
        "regressor = DecisionTreeRegressor(random_state = 0)\n",
        "regressor.fit(X_train_new,y_train_new)\n",
        "DecisionTreeRegressor(random_state=0)\n",
        "y_pred = regressor.predict(X_test_new)\n",
        "r2_score(y_test_new, y_pred)"
      ],
      "execution_count": null,
      "outputs": [
        {
          "output_type": "execute_result",
          "data": {
            "text/plain": [
              "-0.5527115689702267"
            ]
          },
          "metadata": {},
          "execution_count": 37
        }
      ]
    },
    {
      "cell_type": "code",
      "metadata": {
        "id": "Dtkifh65Llae",
        "outputId": "f07f7e97-82bc-423e-b955-d875d8a57f47",
        "colab": {
          "base_uri": "https://localhost:8080/"
        }
      },
      "source": [
        "# Fitting the Random Forest Regression with the dataset\n",
        "from sklearn.ensemble import RandomForestRegressor\n",
        "\n",
        "regressor = RandomForestRegressor(n_estimators = 10,random_state = 0) # n estiamator is the number of decision trees\n",
        "regressor.fit(X_train_new,y_train_new)\n",
        "RandomForestRegressor(n_estimators=10, random_state=0)\n",
        "y_pred = regressor.predict(X_test_new)\n",
        "r2_score(y_test_new, y_pred)"
      ],
      "execution_count": null,
      "outputs": [
        {
          "output_type": "stream",
          "name": "stderr",
          "text": [
            "/usr/local/lib/python3.7/dist-packages/ipykernel_launcher.py:5: DataConversionWarning: A column-vector y was passed when a 1d array was expected. Please change the shape of y to (n_samples,), for example using ravel().\n",
            "  \"\"\"\n"
          ]
        },
        {
          "output_type": "execute_result",
          "data": {
            "text/plain": [
              "-0.021310436353343176"
            ]
          },
          "metadata": {},
          "execution_count": 38
        }
      ]
    },
    {
      "cell_type": "markdown",
      "source": [
        "**Result Analysis**\n",
        "\n",
        "The R-square error for the regression are given below:\n",
        "\n",
        "Linear Regression :0.7909\n",
        "\n",
        "Support Vector Regression:0.7619\n",
        "\n",
        "Decision Tree Regression:0.7120\n",
        "\n",
        "Random Forest Regressrion:0.8405\n",
        "\n",
        "**Discussion:**\n",
        "\n",
        "In the dataset, Multivariate Linear Regression, Support Vector Regression, Decision Tree Regression, Random Forest Regressrion has been applied. For evaluating their performances R-square error evaluation matrix has been applied for all. From the values we can see that, R-square value for random forest regression is more close to 1 which is 0.84 than the others. So that, random forest regression gives better prediction in the dataset."
      ],
      "metadata": {
        "id": "L-H5AfhnK950"
      }
    }
  ]
}